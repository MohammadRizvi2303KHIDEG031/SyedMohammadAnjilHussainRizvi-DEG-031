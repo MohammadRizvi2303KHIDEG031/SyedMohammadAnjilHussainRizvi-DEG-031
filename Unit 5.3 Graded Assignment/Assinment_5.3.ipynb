{
 "cells": [
  {
   "cell_type": "code",
   "execution_count": 7,
   "id": "7145d102-6a9a-4a51-9798-1737bc88d6df",
   "metadata": {
    "tags": []
   },
   "outputs": [],
   "source": [
    "from time import sleep\n",
    "\n",
    "import pyspark\n",
    "from pyspark.sql import SparkSession\n",
    "from pyspark.sql.functions import col, count, struct,udf\n",
    "from pyspark.sql.types import DateType\n",
    "from pyspark.sql.types import StructType, StructField, StringType\n",
    "from pyspark.sql.functions import date_format, avg, max, desc, min"
   ]
  },
  {
   "cell_type": "markdown",
   "id": "b312f0a3-b4fe-4fba-9913-e96e77dad864",
   "metadata": {
    "tags": []
   },
   "source": [
    "# creating pyspark session"
   ]
  },
  {
   "cell_type": "code",
   "execution_count": 5,
   "id": "4266277c-a059-4886-ab97-f96cea11d6ff",
   "metadata": {},
   "outputs": [
    {
     "name": "stdout",
     "output_type": "stream",
     "text": [
      "<SparkContext master=local[*] appName=Titanic Analysis>\n"
     ]
    }
   ],
   "source": [
    "spark = (\n",
    "    SparkSession.builder\n",
    "    .appName(\"Titanic Analysis\")\n",
    "    .getOrCreate()\n",
    ")\n",
    "\n",
    "# Get Spark Context\n",
    "print(spark.sparkContext)"
   ]
  },
  {
   "cell_type": "markdown",
   "id": "03426dd9-66fa-4afa-a61b-e70bcbae9e89",
   "metadata": {},
   "source": [
    "# reading csv, formatting with inferSchema and print schema"
   ]
  },
  {
   "cell_type": "code",
   "execution_count": 6,
   "id": "faf0b6e7-bef0-4bd6-b5a5-92a2db21a439",
   "metadata": {},
   "outputs": [
    {
     "name": "stdout",
     "output_type": "stream",
     "text": [
      "root\n",
      " |-- PassengerId: integer (nullable = true)\n",
      " |-- Survived: integer (nullable = true)\n",
      " |-- Passengerclass: integer (nullable = true)\n",
      " |-- Name: string (nullable = true)\n",
      " |-- Sex: string (nullable = true)\n",
      " |-- Age: integer (nullable = true)\n",
      " |-- SibSp: integer (nullable = true)\n",
      " |-- Parch: integer (nullable = true)\n",
      " |-- Ticket: string (nullable = true)\n",
      " |-- Fare: double (nullable = true)\n",
      " |-- Cabin: string (nullable = true)\n",
      " |-- TimeStream: string (nullable = true)\n",
      "\n",
      "+-----------+--------+--------------+--------------------+------+----+-----+-----+----------------+-------+-----+----------+\n",
      "|PassengerId|Survived|Passengerclass|                Name|   Sex| Age|SibSp|Parch|          Ticket|   Fare|Cabin|TimeStream|\n",
      "+-----------+--------+--------------+--------------------+------+----+-----+-----+----------------+-------+-----+----------+\n",
      "|          1|       0|             3|Braund, Mr. Owen ...|  male|  22|    1|    0|       A/5 21171|   7.25| null|         S|\n",
      "|          2|       1|             1|Cumings, Mrs. Joh...|female|  38|    1|    0|        PC 17599|71.2833|  C85|         C|\n",
      "|          3|       1|             3|Heikkinen, Miss. ...|female|  26|    0|    0|STON/O2. 3101282|  7.925| null|         S|\n",
      "|          4|       1|             1|Futrelle, Mrs. Ja...|female|  35|    1|    0|          113803|   53.1| C123|         S|\n",
      "|          5|       0|             3|Allen, Mr. Willia...|  male|  35|    0|    0|          373450|   8.05| null|         S|\n",
      "|          6|       0|             3|    Moran, Mr. James|  male|null|    0|    0|          330877| 8.4583| null|         Q|\n",
      "|          7|       0|             1|McCarthy, Mr. Tim...|  male|  54|    0|    0|           17463|51.8625|  E46|         S|\n",
      "|          8|       0|             3|Palsson, Master. ...|  male|   2|    3|    1|          349909| 21.075| null|         S|\n",
      "|          9|       1|             3|Johnson, Mrs. Osc...|female|  27|    0|    2|          347742|11.1333| null|         S|\n",
      "|         10|       1|             2|Nasser, Mrs. Nich...|female|  14|    1|    0|          237736|30.0708| null|         C|\n",
      "|         11|       1|             3|Sandstrom, Miss. ...|female|   4|    1|    1|         PP 9549|   16.7|   G6|         S|\n",
      "|         12|       1|             1|Bonnell, Miss. El...|female|  58|    0|    0|          113783|  26.55| C103|         S|\n",
      "|         13|       0|             3|Saundercock, Mr. ...|  male|  20|    0|    0|       A/5. 2151|   8.05| null|         S|\n",
      "|         14|       0|             3|Andersson, Mr. An...|  male|  39|    1|    5|          347082| 31.275| null|         S|\n",
      "|         15|       0|             3|Vestrom, Miss. Hu...|female|  14|    0|    0|          350406| 7.8542| null|         S|\n",
      "|         16|       1|             2|Hewlett, Mrs. (Ma...|female|  55|    0|    0|          248706|   16.0| null|         S|\n",
      "|         17|       0|             3|Rice, Master. Eugene|  male|   2|    4|    1|          382652| 29.125| null|         Q|\n",
      "|         18|       1|             2|Williams, Mr. Cha...|  male|null|    0|    0|          244373|   13.0| null|         S|\n",
      "|         19|       0|             3|Vander Planke, Mr...|female|  31|    1|    0|          345763|   18.0| null|         S|\n",
      "|         20|       1|             3|Masselmani, Mrs. ...|female|null|    0|    0|            2649|  7.225| null|         C|\n",
      "+-----------+--------+--------------+--------------------+------+----+-----+-----+----------------+-------+-----+----------+\n",
      "only showing top 20 rows\n",
      "\n"
     ]
    }
   ],
   "source": [
    "# reading csv from current directorty\n",
    "titanic_df =spark.read.csv(\"./titanic.csv\", inferSchema=True, header= True)\n",
    "# printing schema\n",
    "titanic_df.printSchema()\n",
    "#showing the dataframe\n",
    "titanic_df.show()"
   ]
  },
  {
   "cell_type": "markdown",
   "id": "1a34ccbd-fef4-40c4-8c80-d3bdcf9c6180",
   "metadata": {},
   "source": [
    "# For numerical columns, calculate minimum, maximum and average values."
   ]
  },
  {
   "cell_type": "code",
   "execution_count": 7,
   "id": "59bde564-d68a-4cec-9de9-cc3598649b9e",
   "metadata": {},
   "outputs": [
    {
     "name": "stdout",
     "output_type": "stream",
     "text": [
      "+--------+--------------+----+-----+-----+-------+\n",
      "|Survived|Passengerclass| Age|SibSp|Parch|   Fare|\n",
      "+--------+--------------+----+-----+-----+-------+\n",
      "|       0|             3|  22|    1|    0|   7.25|\n",
      "|       1|             1|  38|    1|    0|71.2833|\n",
      "|       1|             3|  26|    0|    0|  7.925|\n",
      "|       1|             1|  35|    1|    0|   53.1|\n",
      "|       0|             3|  35|    0|    0|   8.05|\n",
      "|       0|             3|null|    0|    0| 8.4583|\n",
      "|       0|             1|  54|    0|    0|51.8625|\n",
      "|       0|             3|   2|    3|    1| 21.075|\n",
      "|       1|             3|  27|    0|    2|11.1333|\n",
      "|       1|             2|  14|    1|    0|30.0708|\n",
      "|       1|             3|   4|    1|    1|   16.7|\n",
      "|       1|             1|  58|    0|    0|  26.55|\n",
      "|       0|             3|  20|    0|    0|   8.05|\n",
      "|       0|             3|  39|    1|    5| 31.275|\n",
      "|       0|             3|  14|    0|    0| 7.8542|\n",
      "|       1|             2|  55|    0|    0|   16.0|\n",
      "|       0|             3|   2|    4|    1| 29.125|\n",
      "|       1|             2|null|    0|    0|   13.0|\n",
      "|       0|             3|  31|    1|    0|   18.0|\n",
      "|       1|             3|null|    0|    0|  7.225|\n",
      "+--------+--------------+----+-----+-----+-------+\n",
      "only showing top 20 rows\n",
      "\n"
     ]
    }
   ],
   "source": [
    "# fetching columns from data frame which row values are numerical and putting them in list\n",
    "numerical_col = [col_name for col_name, col_type in titanic_df.dtypes if col_type == \"int\" or col_type == \"double\"]\n",
    "\n",
    "# this will select only those columns from data frame which are in above \n",
    "#list excluding first row as it is index and we dnt want to calculate operation of index column\n",
    "numerical_df = titanic_df.select(*numerical_col[1:])\n",
    "numerical_df.show()"
   ]
  },
  {
   "cell_type": "code",
   "execution_count": 8,
   "id": "404d1c04-e00a-4066-b542-caf455ed15b4",
   "metadata": {},
   "outputs": [
    {
     "name": "stdout",
     "output_type": "stream",
     "text": [
      "+--------+--------------+---+-----+-----+--------+\n",
      "|Survived|Passengerclass|Age|SibSp|Parch|    Fare|\n",
      "+--------+--------------+---+-----+-----+--------+\n",
      "|       1|             3| 80|    8|    6|512.3292|\n",
      "+--------+--------------+---+-----+-----+--------+\n",
      "\n"
     ]
    }
   ],
   "source": [
    "# calculating max values of all columns in dataframe and putting it into new dataframe\n",
    "max_values = numerical_df.agg(*[max(column).alias(column) for column in numerical_df.columns])\n",
    "max_values.show()"
   ]
  },
  {
   "cell_type": "code",
   "execution_count": 9,
   "id": "b951189d-209d-4319-9caa-648c7600a9b2",
   "metadata": {},
   "outputs": [
    {
     "name": "stdout",
     "output_type": "stream",
     "text": [
      "+------------------+-----------------+------------------+------------------+-------------------+----------------+\n",
      "|          Survived|   Passengerclass|               Age|             SibSp|              Parch|            Fare|\n",
      "+------------------+-----------------+------------------+------------------+-------------------+----------------+\n",
      "|0.3838383838383838|2.308641975308642|29.679271708683473|0.5230078563411896|0.38159371492704824|32.2042079685746|\n",
      "+------------------+-----------------+------------------+------------------+-------------------+----------------+\n",
      "\n"
     ]
    }
   ],
   "source": [
    "# calculating avg values of all columns in dataframe and putting it into new dataframe\n",
    "avg_values = numerical_df.agg(*[avg(column).alias(column) for column in numerical_df.columns])\n",
    "avg_values.show()"
   ]
  },
  {
   "cell_type": "code",
   "execution_count": 10,
   "id": "a6bb364a-c48b-4e6c-aac9-669010af4e5b",
   "metadata": {},
   "outputs": [
    {
     "name": "stdout",
     "output_type": "stream",
     "text": [
      "+--------+--------------+---+-----+-----+----+\n",
      "|Survived|Passengerclass|Age|SibSp|Parch|Fare|\n",
      "+--------+--------------+---+-----+-----+----+\n",
      "|       0|             1|  0|    0|    0| 0.0|\n",
      "+--------+--------------+---+-----+-----+----+\n",
      "\n"
     ]
    }
   ],
   "source": [
    "# calculating min values of all columns in dataframe and putting it into new dataframe\n",
    "\n",
    "min_values = numerical_df.agg(*[min(column).alias(column) for column in numerical_df.columns])\n",
    "min_values.show()"
   ]
  },
  {
   "cell_type": "markdown",
   "id": "3944ae91-c080-4479-b6fd-a392651bafcc",
   "metadata": {},
   "source": [
    "# For categorical columns, create and apply UDF that will change the last letter of every word to “1”."
   ]
  },
  {
   "cell_type": "code",
   "execution_count": 11,
   "id": "844af7c4-3a4c-4026-b452-d1de6f89f3ff",
   "metadata": {},
   "outputs": [
    {
     "name": "stdout",
     "output_type": "stream",
     "text": [
      "+-----------+--------+--------------+--------------------+------+----+-----+-----+----------------+-------+-----+----------+\n",
      "|PassengerId|Survived|Passengerclass|                Name|   Sex| Age|SibSp|Parch|          Ticket|   Fare|Cabin|TimeStream|\n",
      "+-----------+--------+--------------+--------------------+------+----+-----+-----+----------------+-------+-----+----------+\n",
      "|          1|       0|             3|Braund, Mr. Owen ...|  male|  22|    1|    0|       A/5 21171|   7.25| null|         S|\n",
      "|          2|       1|             1|Cumings, Mrs. Joh...|female|  38|    1|    0|        PC 17599|71.2833|  C85|         C|\n",
      "|          3|       1|             3|Heikkinen, Miss. ...|female|  26|    0|    0|STON/O2. 3101282|  7.925| null|         S|\n",
      "|          4|       1|             1|Futrelle, Mrs. Ja...|female|  35|    1|    0|          113803|   53.1| C123|         S|\n",
      "|          5|       0|             3|Allen, Mr. Willia...|  male|  35|    0|    0|          373450|   8.05| null|         S|\n",
      "|          6|       0|             3|    Moran, Mr. James|  male|null|    0|    0|          330877| 8.4583| null|         Q|\n",
      "|          7|       0|             1|McCarthy, Mr. Tim...|  male|  54|    0|    0|           17463|51.8625|  E46|         S|\n",
      "|          8|       0|             3|Palsson, Master. ...|  male|   2|    3|    1|          349909| 21.075| null|         S|\n",
      "|          9|       1|             3|Johnson, Mrs. Osc...|female|  27|    0|    2|          347742|11.1333| null|         S|\n",
      "|         10|       1|             2|Nasser, Mrs. Nich...|female|  14|    1|    0|          237736|30.0708| null|         C|\n",
      "|         11|       1|             3|Sandstrom, Miss. ...|female|   4|    1|    1|         PP 9549|   16.7|   G6|         S|\n",
      "|         12|       1|             1|Bonnell, Miss. El...|female|  58|    0|    0|          113783|  26.55| C103|         S|\n",
      "|         13|       0|             3|Saundercock, Mr. ...|  male|  20|    0|    0|       A/5. 2151|   8.05| null|         S|\n",
      "|         14|       0|             3|Andersson, Mr. An...|  male|  39|    1|    5|          347082| 31.275| null|         S|\n",
      "|         15|       0|             3|Vestrom, Miss. Hu...|female|  14|    0|    0|          350406| 7.8542| null|         S|\n",
      "|         16|       1|             2|Hewlett, Mrs. (Ma...|female|  55|    0|    0|          248706|   16.0| null|         S|\n",
      "|         17|       0|             3|Rice, Master. Eugene|  male|   2|    4|    1|          382652| 29.125| null|         Q|\n",
      "|         18|       1|             2|Williams, Mr. Cha...|  male|null|    0|    0|          244373|   13.0| null|         S|\n",
      "|         19|       0|             3|Vander Planke, Mr...|female|  31|    1|    0|          345763|   18.0| null|         S|\n",
      "|         20|       1|             3|Masselmani, Mrs. ...|female|null|    0|    0|            2649|  7.225| null|         C|\n",
      "+-----------+--------+--------------+--------------------+------+----+-----+-----+----------------+-------+-----+----------+\n",
      "only showing top 20 rows\n",
      "\n"
     ]
    }
   ],
   "source": [
    "titanic_df.show()"
   ]
  },
  {
   "cell_type": "code",
   "execution_count": 14,
   "id": "f3e6bc79-297f-4ee1-bb4e-bfa540d4995b",
   "metadata": {},
   "outputs": [],
   "source": [
    "# IN our output dataframe 5 first cols are the categorical cols that have to change and the next 5 are those that are changed\n",
    "# As we can see col with only 1 char is replaced with 1 and others have changed its last char, null values will remain null"
   ]
  },
  {
   "cell_type": "code",
   "execution_count": 13,
   "id": "1f9b8968-9974-4703-8af3-94ad4457a7fb",
   "metadata": {},
   "outputs": [
    {
     "name": "stdout",
     "output_type": "stream",
     "text": [
      "root\n",
      " |-- Survived: string (nullable = true)\n",
      " |-- Passengerclass: string (nullable = true)\n",
      " |-- Sex: string (nullable = true)\n",
      " |-- TimeStream: string (nullable = true)\n",
      " |-- Cabin: string (nullable = true)\n",
      "\n",
      "+--------+--------------+------+----------+-----+-----------+-----------------+------+-------------+--------+\n",
      "|Survived|Passengerclass|   Sex|TimeStream|Cabin|Survived_up|Passengerclass_up|Sex_up|TimeStream_up|Cabin_up|\n",
      "+--------+--------------+------+----------+-----+-----------+-----------------+------+-------------+--------+\n",
      "|       0|             3|  male|         S| null|          1|                1|  mal1|            1|    null|\n",
      "|       1|             1|female|         C|  C85|          1|                1|femal1|            1|     C81|\n",
      "|       1|             3|female|         S| null|          1|                1|femal1|            1|    null|\n",
      "|       1|             1|female|         S| C123|          1|                1|femal1|            1|    C121|\n",
      "|       0|             3|  male|         S| null|          1|                1|  mal1|            1|    null|\n",
      "|       0|             3|  male|         Q| null|          1|                1|  mal1|            1|    null|\n",
      "|       0|             1|  male|         S|  E46|          1|                1|  mal1|            1|     E41|\n",
      "|       0|             3|  male|         S| null|          1|                1|  mal1|            1|    null|\n",
      "|       1|             3|female|         S| null|          1|                1|femal1|            1|    null|\n",
      "|       1|             2|female|         C| null|          1|                1|femal1|            1|    null|\n",
      "|       1|             3|female|         S|   G6|          1|                1|femal1|            1|      G1|\n",
      "|       1|             1|female|         S| C103|          1|                1|femal1|            1|    C101|\n",
      "|       0|             3|  male|         S| null|          1|                1|  mal1|            1|    null|\n",
      "|       0|             3|  male|         S| null|          1|                1|  mal1|            1|    null|\n",
      "|       0|             3|female|         S| null|          1|                1|femal1|            1|    null|\n",
      "|       1|             2|female|         S| null|          1|                1|femal1|            1|    null|\n",
      "|       0|             3|  male|         Q| null|          1|                1|  mal1|            1|    null|\n",
      "|       1|             2|  male|         S| null|          1|                1|  mal1|            1|    null|\n",
      "|       0|             3|female|         S| null|          1|                1|femal1|            1|    null|\n",
      "|       1|             3|female|         C| null|          1|                1|femal1|            1|    null|\n",
      "+--------+--------------+------+----------+-----+-----------+-----------------+------+-------------+--------+\n",
      "only showing top 20 rows\n",
      "\n"
     ]
    }
   ],
   "source": [
    "# loading dataframe from csv\n",
    "titanic_df =spark.read.csv(\"./titanic.csv\", header= True)\n",
    "\n",
    "# selecting and making separate dataframe with only categorical columns of above loaded titanic_df\n",
    "categorical_df = titanic_df.select(\"Survived\",\"Passengerclass\",\"Sex\",\"TimeStream\",\"Cabin\")\n",
    "\n",
    "# print to look at the dtype of column as we want them to be string\n",
    "categorical_df.printSchema()\n",
    "\n",
    "# function to put into UDF that will return value with last character changed to 1 if it is not null\n",
    "def change_last_character(value):\n",
    "    # if value is null return the same value as it is\n",
    "    if value is None:\n",
    "        return value\n",
    "    # else remove last char with slicing and add 1 and return it\n",
    "    else:\n",
    "        return value[:-1] + \"1\"\n",
    "\n",
    "# put the function we created in udf and the return type of the function which is string\n",
    "change_last_character_udf = udf(change_last_character, returnType=StringType())\n",
    "\n",
    "# now i m looping over columns to make changes all together to all columns of categorical_df\n",
    "for col_name in categorical_df.columns:\n",
    "    # we are adding modified column in the same dataframe we need a unique name for each column\n",
    "    modified_col_name = col_name + \"_up\"\n",
    "    \n",
    "    # adding column with withcolumn with para( col name, udf we created , and adding function with col name in udf\n",
    "    # as we are iterating our col_name will be changed in every iteration\n",
    "    categorical_df = categorical_df.withColumn(modified_col_name, change_last_character_udf(categorical_df[col_name]))\n",
    "    \n",
    "#categorical_df = categorical_df.withColumn(\"result\", change_last_character_udf(struct(categorical_df.columns)))\n",
    "\n",
    "print(\"\")\n",
    "categorical_df.show()"
   ]
  },
  {
   "cell_type": "markdown",
   "id": "0627ca5f-79e4-4862-9f9a-606bcad5301c",
   "metadata": {},
   "source": [
    "# Sort DataFrame by the first column and save the results to the Parquet file."
   ]
  },
  {
   "cell_type": "code",
   "execution_count": 20,
   "id": "07f5b5c1-c8e0-4e56-b97d-e7dc377271a6",
   "metadata": {},
   "outputs": [
    {
     "name": "stdout",
     "output_type": "stream",
     "text": [
      "+--------+--------------+------+----------+-----+-----------+-----------------+------+-------------+--------+\n",
      "|Survived|Passengerclass|   Sex|TimeStream|Cabin|Survived_up|Passengerclass_up|Sex_up|TimeStream_up|Cabin_up|\n",
      "+--------+--------------+------+----------+-----+-----------+-----------------+------+-------------+--------+\n",
      "|       0|             3|female|         S| null|          1|                1|femal1|            1|    null|\n",
      "|       0|             3|  male|         C| null|          1|                1|  mal1|            1|    null|\n",
      "|       0|             3|  male|         C| null|          1|                1|  mal1|            1|    null|\n",
      "|       0|             2|  male|         S| null|          1|                1|  mal1|            1|    null|\n",
      "|       0|             1|  male|         C| null|          1|                1|  mal1|            1|    null|\n",
      "|       0|             3|  male|         S| null|          1|                1|  mal1|            1|    null|\n",
      "|       0|             1|  male|         S| null|          1|                1|  mal1|            1|    null|\n",
      "|       0|             1|  male|         S|  E46|          1|                1|  mal1|            1|     E41|\n",
      "|       0|             3|  male|         S| null|          1|                1|  mal1|            1|    null|\n",
      "|       0|             3|  male|         S| null|          1|                1|  mal1|            1|    null|\n",
      "|       0|             3|female|         S| null|          1|                1|femal1|            1|    null|\n",
      "|       0|             3|female|         S| null|          1|                1|femal1|            1|    null|\n",
      "|       0|             3|female|         S| null|          1|                1|femal1|            1|    null|\n",
      "|       0|             3|female|         S| null|          1|                1|femal1|            1|    null|\n",
      "|       0|             2|female|         S| null|          1|                1|femal1|            1|    null|\n",
      "|       0|             3|  male|         S| null|          1|                1|  mal1|            1|    null|\n",
      "|       0|             3|  male|         C| null|          1|                1|  mal1|            1|    null|\n",
      "|       0|             3|  male|         S| null|          1|                1|  mal1|            1|    null|\n",
      "|       0|             3|  male|         S| null|          1|                1|  mal1|            1|    null|\n",
      "|       0|             1|  male|         C|  B30|          1|                1|  mal1|            1|     B31|\n",
      "+--------+--------------+------+----------+-----+-----------+-----------------+------+-------------+--------+\n",
      "only showing top 20 rows\n",
      "\n"
     ]
    }
   ],
   "source": [
    "# Assuming that dataframe here is our output categorical dataframe on above dataframe\n",
    "\n",
    "# sorting the dataframe by survived column \n",
    "sorted_df = categorical_df.sort(\"Survived\")\n",
    "sorted_df.show()\n",
    "# saving to parquet\n",
    "sorted_df.write.parquet(\"categorical_df.parquet\")\n"
   ]
  },
  {
   "cell_type": "code",
   "execution_count": null,
   "id": "1f2f027a-d489-43a3-a203-d8536f00b03c",
   "metadata": {},
   "outputs": [],
   "source": []
  }
 ],
 "metadata": {
  "kernelspec": {
   "display_name": "Python 3 (ipykernel)",
   "language": "python",
   "name": "python3"
  },
  "language_info": {
   "codemirror_mode": {
    "name": "ipython",
    "version": 3
   },
   "file_extension": ".py",
   "mimetype": "text/x-python",
   "name": "python",
   "nbconvert_exporter": "python",
   "pygments_lexer": "ipython3",
   "version": "3.10.8"
  }
 },
 "nbformat": 4,
 "nbformat_minor": 5
}
