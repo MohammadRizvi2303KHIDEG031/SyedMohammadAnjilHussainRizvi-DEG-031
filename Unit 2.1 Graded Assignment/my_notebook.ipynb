{
 "cells": [
  {
   "cell_type": "code",
   "execution_count": 1,
   "id": "0d45f06b-dba0-429a-92a3-0be8ed86544b",
   "metadata": {
    "tags": []
   },
   "outputs": [
    {
     "name": "stdout",
     "output_type": "stream",
     "text": [
      "Defaulting to user installation because normal site-packages is not writeable\n",
      "Collecting nbqa\n",
      "  Downloading nbqa-1.7.0-py3-none-any.whl (34 kB)\n",
      "Requirement already satisfied: ipython>=7.8.0 in /usr/lib/python3/dist-packages (from nbqa) (7.31.1)\n",
      "Collecting tokenize-rt>=3.2.0\n",
      "  Downloading tokenize_rt-5.0.0-py2.py3-none-any.whl (5.8 kB)\n",
      "Requirement already satisfied: tomli in /home/huzefaanver/.local/lib/python3.10/site-packages (from nbqa) (2.0.1)\n",
      "Collecting autopep8>=1.5\n",
      "  Downloading autopep8-2.0.2-py2.py3-none-any.whl (45 kB)\n",
      "\u001b[2K     \u001b[38;2;114;156;31m━━━━━━━━━━━━━━━━━━━━━━━━━━━━━━━━━━━━━━━━\u001b[0m \u001b[32m45.2/45.2 KB\u001b[0m \u001b[31m1.7 MB/s\u001b[0m eta \u001b[36m0:00:00\u001b[0m\n",
      "\u001b[?25hCollecting pycodestyle>=2.10.0\n",
      "  Downloading pycodestyle-2.10.0-py2.py3-none-any.whl (41 kB)\n",
      "\u001b[2K     \u001b[38;2;114;156;31m━━━━━━━━━━━━━━━━━━━━━━━━━━━━━━━━━━━━━━━━\u001b[0m \u001b[32m41.3/41.3 KB\u001b[0m \u001b[31m2.3 MB/s\u001b[0m eta \u001b[36m0:00:00\u001b[0m\n",
      "\u001b[?25hInstalling collected packages: tokenize-rt, pycodestyle, autopep8, nbqa\n",
      "Successfully installed autopep8-2.0.2 nbqa-1.7.0 pycodestyle-2.10.0 tokenize-rt-5.0.0\n"
     ]
    }
   ],
   "source": [
    "!pip install nbqa"
   ]
  },
  {
   "cell_type": "code",
   "execution_count": 2,
   "id": "64aaf8ca-9a72-4ae6-856b-bd278364d310",
   "metadata": {
    "tags": []
   },
   "outputs": [
    {
     "name": "stdout",
     "output_type": "stream",
     "text": [
      "Defaulting to user installation because normal site-packages is not writeable\n",
      "Collecting blacken-docs\n",
      "  Downloading blacken_docs-1.13.0-py3-none-any.whl (7.1 kB)\n",
      "Collecting black>=22.1.0\n",
      "  Downloading black-23.3.0-cp310-cp310-manylinux_2_17_x86_64.manylinux2014_x86_64.whl (1.7 MB)\n",
      "\u001b[2K     \u001b[38;2;114;156;31m━━━━━━━━━━━━━━━━━━━━━━━━━━━━━━━━━━━━━━━━\u001b[0m \u001b[32m1.7/1.7 MB\u001b[0m \u001b[31m4.0 MB/s\u001b[0m eta \u001b[36m0:00:00\u001b[0m MB/s\u001b[0m eta \u001b[36m0:00:01\u001b[0m:01\u001b[0m0m\n",
      "\u001b[?25hRequirement already satisfied: mypy-extensions>=0.4.3 in /home/huzefaanver/.local/lib/python3.10/site-packages (from black>=22.1.0->blacken-docs) (1.0.0)\n",
      "Requirement already satisfied: tomli>=1.1.0 in /home/huzefaanver/.local/lib/python3.10/site-packages (from black>=22.1.0->blacken-docs) (2.0.1)\n",
      "Requirement already satisfied: platformdirs>=2 in /home/huzefaanver/.local/lib/python3.10/site-packages (from black>=22.1.0->blacken-docs) (3.2.0)\n",
      "Collecting pathspec>=0.9.0\n",
      "  Downloading pathspec-0.11.1-py3-none-any.whl (29 kB)\n",
      "Requirement already satisfied: click>=8.0.0 in /usr/lib/python3/dist-packages (from black>=22.1.0->blacken-docs) (8.0.3)\n",
      "Collecting packaging>=22.0\n",
      "  Downloading packaging-23.1-py3-none-any.whl (48 kB)\n",
      "\u001b[2K     \u001b[38;2;114;156;31m━━━━━━━━━━━━━━━━━━━━━━━━━━━━━━━━━━━━━━━━\u001b[0m \u001b[32m48.9/48.9 KB\u001b[0m \u001b[31m6.1 MB/s\u001b[0m eta \u001b[36m0:00:00\u001b[0m\n",
      "\u001b[?25hInstalling collected packages: pathspec, packaging, black, blacken-docs\n",
      "Successfully installed black-23.3.0 blacken-docs-1.13.0 packaging-23.1 pathspec-0.11.1\n"
     ]
    }
   ],
   "source": [
    "!pip install blacken-docs"
   ]
  },
  {
   "cell_type": "code",
   "execution_count": null,
   "id": "3d4826df-93ee-4289-b507-c33d72a0d01b",
   "metadata": {
    "tags": []
   },
   "outputs": [],
   "source": []
  },
  {
   "cell_type": "markdown",
   "id": "f5000c3c-362e-4649-a627-87b1996bd3ef",
   "metadata": {
    "tags": []
   },
   "source": [
    "```python\n",
    "print(\"Hello World\")\n",
    "for i in range(1, 10):\n",
    "    print(\"hello world\")\n",
    "```"
   ]
  },
  {
   "cell_type": "markdown",
   "id": "411fefa9-3c60-461b-bcf8-16d44fdf9a92",
   "metadata": {},
   "source": [
    "!nbqa blacken-docs my_notebook.ipynb --"
   ]
  }
 ],
 "metadata": {
  "kernelspec": {
   "display_name": "Python 3 (ipykernel)",
   "language": "python",
   "name": "python3"
  },
  "language_info": {
   "codemirror_mode": {
    "name": "ipython",
    "version": 3
   },
   "file_extension": ".py",
   "mimetype": "text/x-python",
   "name": "python",
   "nbconvert_exporter": "python",
   "pygments_lexer": "ipython3",
   "version": "3.10.6"
  }
 },
 "nbformat": 4,
 "nbformat_minor": 5
}
